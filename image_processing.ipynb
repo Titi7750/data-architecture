{
 "cells": [
  {
   "cell_type": "code",
   "execution_count": 6,
   "id": "35857457",
   "metadata": {},
   "outputs": [],
   "source": [
    "import pandas as pd\n",
    "import os\n",
    "import cv2\n",
    "import matplotlib.pyplot as plt"
   ]
  },
  {
   "cell_type": "code",
   "execution_count": 9,
   "id": "0a082141",
   "metadata": {},
   "outputs": [
    {
     "name": "stdout",
     "output_type": "stream",
     "text": [
      "Traitement terminé. Images sauvegardées dans processed_images/\n"
     ]
    }
   ],
   "source": [
    "# Chargement des métadonnées\n",
    "df = pd.read_csv('./output_data/images.csv')\n",
    "root_dir = './dataset/7272660'\n",
    "output_root = './processed_images'\n",
    "\n",
    "# Fonction de traitement d’image\n",
    "def enhance_image(image_path):\n",
    "    img = cv2.imread(image_path, cv2.IMREAD_COLOR)\n",
    "    \n",
    "    if img is None:\n",
    "        print(f\"Erreur chargement {image_path}\")\n",
    "        return None\n",
    "\n",
    "    # Convertir en niveaux de gris\n",
    "    gray = cv2.cvtColor(img, cv2.COLOR_BGR2GRAY)\n",
    "\n",
    "    # Amélioration de contraste\n",
    "    equalized = cv2.equalizeHist(gray)\n",
    "\n",
    "    # Filtrage pour réduction de bruit\n",
    "    denoised = cv2.medianBlur(equalized, 3)\n",
    "\n",
    "    return denoised\n",
    "\n",
    "# Traitement de toutes les images\n",
    "for _, row in df.iterrows():\n",
    "    relative_path = row['file_path']  # ex: Benign/Benign/image/img1.jpg\n",
    "    image_path = os.path.join(root_dir, relative_path)\n",
    "    \n",
    "    # Traitement\n",
    "    enhanced_img = enhance_image(image_path)\n",
    "    if enhanced_img is None:\n",
    "        continue\n",
    "\n",
    "    # Préparation du chemin de sauvegarde\n",
    "    output_image_path = os.path.join(output_root, relative_path)\n",
    "    os.makedirs(os.path.dirname(output_image_path), exist_ok=True)\n",
    "\n",
    "    # Sauvegarde avec le même nom de fichier\n",
    "    cv2.imwrite(output_image_path, enhanced_img)\n",
    "\n",
    "print(\"Traitement terminé. Images sauvegardées dans processed_images/\")\n"
   ]
  },
  {
   "cell_type": "code",
   "execution_count": null,
   "id": "fba31f93",
   "metadata": {},
   "outputs": [],
   "source": []
  }
 ],
 "metadata": {
  "kernelspec": {
   "display_name": ".venv",
   "language": "python",
   "name": "python3"
  },
  "language_info": {
   "codemirror_mode": {
    "name": "ipython",
    "version": 3
   },
   "file_extension": ".py",
   "mimetype": "text/x-python",
   "name": "python",
   "nbconvert_exporter": "python",
   "pygments_lexer": "ipython3",
   "version": "3.13.3"
  }
 },
 "nbformat": 4,
 "nbformat_minor": 5
}
